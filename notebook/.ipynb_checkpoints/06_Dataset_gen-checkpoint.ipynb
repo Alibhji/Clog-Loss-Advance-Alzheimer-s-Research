{
 "cells": [
  {
   "cell_type": "code",
   "execution_count": 2,
   "metadata": {},
   "outputs": [],
   "source": [
    "import pickle\n",
    "import pandas as pd\n",
    "\n",
    "\n",
    "with open ('../../data/whole_train_dataset.pandas', 'rb') as file:\n",
    "    pd__=pickle.load(file)"
   ]
  },
  {
   "cell_type": "code",
   "execution_count": 11,
   "metadata": {},
   "outputs": [],
   "source": [
    "with open ('../../data/whole_test_dataset.pandas', 'rb') as file:\n",
    "    test_pd=pickle.load(file)"
   ]
  },
  {
   "cell_type": "code",
   "execution_count": 12,
   "metadata": {},
   "outputs": [
    {
     "data": {
      "text/html": [
       "<div>\n",
       "<style scoped>\n",
       "    .dataframe tbody tr th:only-of-type {\n",
       "        vertical-align: middle;\n",
       "    }\n",
       "\n",
       "    .dataframe tbody tr th {\n",
       "        vertical-align: top;\n",
       "    }\n",
       "\n",
       "    .dataframe thead th {\n",
       "        text-align: right;\n",
       "    }\n",
       "</style>\n",
       "<table border=\"1\" class=\"dataframe\">\n",
       "  <thead>\n",
       "    <tr style=\"text-align: right;\">\n",
       "      <th></th>\n",
       "      <th>filename</th>\n",
       "      <th>url</th>\n",
       "      <th>num_frames</th>\n",
       "      <th>vid_id</th>\n",
       "    </tr>\n",
       "  </thead>\n",
       "  <tbody>\n",
       "    <tr>\n",
       "      <th>0</th>\n",
       "      <td>100032.mp4</td>\n",
       "      <td>s3://drivendata-competition-clog-loss/test/100...</td>\n",
       "      <td>37</td>\n",
       "      <td>0</td>\n",
       "    </tr>\n",
       "    <tr>\n",
       "      <th>1</th>\n",
       "      <td>100037.mp4</td>\n",
       "      <td>s3://drivendata-competition-clog-loss/test/100...</td>\n",
       "      <td>49</td>\n",
       "      <td>1</td>\n",
       "    </tr>\n",
       "    <tr>\n",
       "      <th>2</th>\n",
       "      <td>100139.mp4</td>\n",
       "      <td>s3://drivendata-competition-clog-loss/test/100...</td>\n",
       "      <td>53</td>\n",
       "      <td>2</td>\n",
       "    </tr>\n",
       "    <tr>\n",
       "      <th>3</th>\n",
       "      <td>100182.mp4</td>\n",
       "      <td>s3://drivendata-competition-clog-loss/test/100...</td>\n",
       "      <td>51</td>\n",
       "      <td>3</td>\n",
       "    </tr>\n",
       "    <tr>\n",
       "      <th>4</th>\n",
       "      <td>100214.mp4</td>\n",
       "      <td>s3://drivendata-competition-clog-loss/test/100...</td>\n",
       "      <td>48</td>\n",
       "      <td>4</td>\n",
       "    </tr>\n",
       "    <tr>\n",
       "      <th>...</th>\n",
       "      <td>...</td>\n",
       "      <td>...</td>\n",
       "      <td>...</td>\n",
       "      <td>...</td>\n",
       "    </tr>\n",
       "    <tr>\n",
       "      <th>14155</th>\n",
       "      <td>686818.mp4</td>\n",
       "      <td>s3://drivendata-competition-clog-loss/test/686...</td>\n",
       "      <td>78</td>\n",
       "      <td>14155</td>\n",
       "    </tr>\n",
       "    <tr>\n",
       "      <th>14156</th>\n",
       "      <td>686855.mp4</td>\n",
       "      <td>s3://drivendata-competition-clog-loss/test/686...</td>\n",
       "      <td>59</td>\n",
       "      <td>14156</td>\n",
       "    </tr>\n",
       "    <tr>\n",
       "      <th>14157</th>\n",
       "      <td>686906.mp4</td>\n",
       "      <td>s3://drivendata-competition-clog-loss/test/686...</td>\n",
       "      <td>62</td>\n",
       "      <td>14157</td>\n",
       "    </tr>\n",
       "    <tr>\n",
       "      <th>14158</th>\n",
       "      <td>686958.mp4</td>\n",
       "      <td>s3://drivendata-competition-clog-loss/test/686...</td>\n",
       "      <td>47</td>\n",
       "      <td>14158</td>\n",
       "    </tr>\n",
       "    <tr>\n",
       "      <th>14159</th>\n",
       "      <td>686995.mp4</td>\n",
       "      <td>s3://drivendata-competition-clog-loss/test/686...</td>\n",
       "      <td>27</td>\n",
       "      <td>14159</td>\n",
       "    </tr>\n",
       "  </tbody>\n",
       "</table>\n",
       "<p>14160 rows × 4 columns</p>\n",
       "</div>"
      ],
      "text/plain": [
       "         filename                                                url  \\\n",
       "0      100032.mp4  s3://drivendata-competition-clog-loss/test/100...   \n",
       "1      100037.mp4  s3://drivendata-competition-clog-loss/test/100...   \n",
       "2      100139.mp4  s3://drivendata-competition-clog-loss/test/100...   \n",
       "3      100182.mp4  s3://drivendata-competition-clog-loss/test/100...   \n",
       "4      100214.mp4  s3://drivendata-competition-clog-loss/test/100...   \n",
       "...           ...                                                ...   \n",
       "14155  686818.mp4  s3://drivendata-competition-clog-loss/test/686...   \n",
       "14156  686855.mp4  s3://drivendata-competition-clog-loss/test/686...   \n",
       "14157  686906.mp4  s3://drivendata-competition-clog-loss/test/686...   \n",
       "14158  686958.mp4  s3://drivendata-competition-clog-loss/test/686...   \n",
       "14159  686995.mp4  s3://drivendata-competition-clog-loss/test/686...   \n",
       "\n",
       "       num_frames  vid_id  \n",
       "0              37       0  \n",
       "1              49       1  \n",
       "2              53       2  \n",
       "3              51       3  \n",
       "4              48       4  \n",
       "...           ...     ...  \n",
       "14155          78   14155  \n",
       "14156          59   14156  \n",
       "14157          62   14157  \n",
       "14158          47   14158  \n",
       "14159          27   14159  \n",
       "\n",
       "[14160 rows x 4 columns]"
      ]
     },
     "execution_count": 12,
     "metadata": {},
     "output_type": "execute_result"
    }
   ],
   "source": [
    "test_pd"
   ]
  },
  {
   "cell_type": "code",
   "execution_count": 10,
   "metadata": {},
   "outputs": [
    {
     "data": {
      "text/plain": [
       "(14160, 2)"
      ]
     },
     "execution_count": 10,
     "metadata": {},
     "output_type": "execute_result"
    }
   ],
   "source": [
    "with open ('../script/model_output.out', 'rb') as file:\n",
    "    estimate=pickle.load(file)\n",
    "estimate.shape\n"
   ]
  },
  {
   "cell_type": "code",
   "execution_count": 40,
   "metadata": {},
   "outputs": [],
   "source": [
    "import pandas as pd\n",
    "\n",
    "submit = pd.read_csv('../../data/submission_format.csv')\n",
    "submit['stalled'] = estimate[:,0]\n",
    "submit['stalled']  = submit.apply(lambda row: [1,0] [row.stalled>=0.5] ,axis=1)\n",
    "\n",
    "submit.to_csv('my_submission.csv',index=False)"
   ]
  },
  {
   "cell_type": "code",
   "execution_count": 26,
   "metadata": {},
   "outputs": [
    {
     "data": {
      "text/plain": [
       "14160"
      ]
     },
     "execution_count": 26,
     "metadata": {},
     "output_type": "execute_result"
    }
   ],
   "source": [
    "estimate[:,0]>0.5,estimate[:,1]\n",
    "\n",
    "len(estimate[:,0]>0.5)"
   ]
  },
  {
   "cell_type": "code",
   "execution_count": 2,
   "metadata": {},
   "outputs": [
    {
     "data": {
      "application/javascript": [
       "\n",
       "IPython.OutputArea.prototype._should_scroll = function(lines) { \n",
       "    return false; } \n"
      ],
      "text/plain": [
       "<IPython.core.display.Javascript object>"
      ]
     },
     "metadata": {},
     "output_type": "display_data"
    }
   ],
   "source": [
    "%%javascript \n",
    "\n",
    "IPython.OutputArea.prototype._should_scroll = function(lines) { \n",
    "    return false; } "
   ]
  },
  {
   "cell_type": "code",
   "execution_count": 27,
   "metadata": {},
   "outputs": [],
   "source": [
    "# The Code written by Ali Babolhaveji @ 6/7/2020\n",
    "\n",
    "from torch.utils.data import Dataset\n",
    "import pandas as pd\n",
    "import numpy as np\n",
    "import cv2\n",
    "import ipyvolume as ipv\n",
    "from boto3.session import Session\n",
    "import os\n",
    "import yaml\n",
    "import joblib\n",
    "import pickle\n",
    "\n",
    "from tqdm.notebook import tqdm\n",
    "\n",
    "# def extract_data(row):\n",
    "#     joblib.load()\n",
    "\n",
    "from sklearn.model_selection import KFold\n",
    "\n",
    "\n",
    "def genrate_K_folds(dataset_pd , K=2 , Fold =0 ,random_state=None ,shuffle=False):\n",
    "\n",
    "\n",
    "    kf = KFold(n_splits=K, random_state=random_state, shuffle=shuffle)\n",
    "    assert Fold < kf.n_splits , f\"Fold number should be between [0 and {K-1}] but it is {Fold} \"\n",
    "    for num,(train, val) in enumerate(kf.split(dataset_pd)):\n",
    "#         print(f\"Fold-{num}\",'train: %s, val: %s' % (train, val))\n",
    "        if Fold == num:\n",
    "            return train, val\n",
    "    \n",
    "\n",
    "\n",
    "class ClogLossDataset_from_compressed_data(Dataset):\n",
    "    def __init__(self, config, split='train', type='train' , draw_3d = False , fold=0):\n",
    "        self.cfg = config\n",
    "        self.dataPath = config['dataset']['path']\n",
    "        self.draw_3d = draw_3d\n",
    "        self.fold = fold\n",
    "        self.split = split\n",
    "        \n",
    "        with open (os.path.join(self.dataPath , 'flowing_Tensors','flowing_Tensors.pandas'),'rb') as handle:\n",
    "            self.flowing_Tensors_pd = pickle.load(handle)\n",
    "        self.flowing_Tensors_pd['folder_name'] = np.tile('flowing_Tensors',len(self.flowing_Tensors_pd))\n",
    "        \n",
    "        with open (os.path.join(self.dataPath , 'stall_Tensors','stall_Tensors.pandas'),'rb') as handle:\n",
    "            self.stall_Tensors_pd = pickle.load(handle)\n",
    "        self.stall_Tensors_pd['folder_name'] = np.tile('stall_Tensors',len(self.stall_Tensors_pd))\n",
    "        \n",
    "        if not os.path.exists(os.path.join(self.dataPath, \"temp_balanced_dataset_pd.pandas\")):\n",
    "            self.df_dataset = pd.DataFrame()\n",
    "    #         self.flowing_Tensors_pd = self.flowing_Tensors_pd.iloc[:100]\n",
    "            counter = 0   \n",
    "            len_stall = len(self.stall_Tensors_pd)-1\n",
    "            # balance data\n",
    "            for  rowt in self.flowing_Tensors_pd.iterrows():\n",
    "                indx=rowt[0]\n",
    "                row =rowt[1]\n",
    "\n",
    "                self.df_dataset = self.df_dataset.append(row)\n",
    "                self.df_dataset = self.df_dataset.append(self.stall_Tensors_pd.iloc[counter])\n",
    "                counter = [0 ,counter+1][counter <len_stall] \n",
    "\n",
    "            self.df_dataset = self.df_dataset.reset_index(drop=True)\n",
    "\n",
    "            with open(os.path.join(self.dataPath, f\"temp_balanced_dataset_pd.pandas\"),'wb') as handel:\n",
    "                pickle.dump(self.df_dataset , handel ,protocol=pickle.HIGHEST_PROTOCOL)\n",
    "                \n",
    "        else:\n",
    "            with open (os.path.join(self.dataPath, f\"temp_balanced_dataset_pd.pandas\"),'rb') as handle:\n",
    "                self.df_dataset = pickle.load(handle)\n",
    "                \n",
    "        train, val = genrate_K_folds(self.df_dataset, K=self.cfg['dataset']['K'], Fold=self.fold)\n",
    "        \n",
    "        if self.split == 'train':\n",
    "            self.df_dataset = self.df_dataset.iloc[train]\n",
    "\n",
    "        elif self.split == 'val':\n",
    "            self.df_dataset = self.df_dataset.iloc[val]\n",
    "\n",
    "            \n",
    "    #         print(self.df_dataset )\n",
    "        \n",
    "    @staticmethod\n",
    "    def draw_tensor(tensor_img):\n",
    "\n",
    "        ipv.figure()\n",
    "        ipv.volshow(tensor_img[..., 0], level=[0.36, 0.55, 1], opacity=[0.11, 0.13, 0.13], level_width=0.05, data_min=0,\n",
    "                    data_max=1, lighting=True)\n",
    "        ipv.view(-30, 45)\n",
    "        ipv.show()\n",
    "\n",
    "            \n",
    "            \n",
    "    def __len__(self):\n",
    "        return len(self.df_dataset)\n",
    "    \n",
    "    def __getitem__(self, index):\n",
    "        row = self.df_dataset.iloc[index]\n",
    "        file= os.path.join(self.dataPath,row.folder_name  , row.filename.split('.')[0]+'.lzma')\n",
    "        data = joblib.load(file)\n",
    "        tensor_img = data[0]\n",
    "        meta = data [1]\n",
    "        \n",
    "        print(tensor_img.mean())\n",
    "#         tensor_img = tensor_img - tensor_img.mean()\n",
    "        tensor_img = tensor_img/255.0\n",
    "        \n",
    "        if tensor_img.shape[0]<199:\n",
    "            print(tensor_img.shape[0])\n",
    "            tensor_img = np.append(tensor_img , np.zeros((200 - len(tensor_img),150, 150, 3)),axis=0)\n",
    "        \n",
    "#         print(tensor_img.mean())\n",
    "        if self.draw_3d:\n",
    "            self.draw_tensor(tensor_img)\n",
    "        meta['tier1']= str(meta['tier1'])\n",
    "        \n",
    "        tensor_img = np.moveaxis(tensor_img ,3,0)\n",
    "        tensor_img = tensor_img.astype(np.float32)\n",
    "\n",
    "        return tensor_img , meta\n",
    "\n",
    "    \n",
    "config = '../script/config.yml'\n",
    "with open (config , 'rb') as f:\n",
    "    config = yaml.load(f ,Loader=yaml.FullLoader)\n",
    "\n",
    "\n",
    "# train_Dataset = ClogLossDataset_from_compressed_data(config , draw_3d=True)\n",
    "train_Dataset = ClogLossDataset_from_compressed_data(config )"
   ]
  },
  {
   "cell_type": "code",
   "execution_count": 19,
   "metadata": {},
   "outputs": [
    {
     "data": {
      "text/plain": [
       "9000"
      ]
     },
     "execution_count": 19,
     "metadata": {},
     "output_type": "execute_result"
    }
   ],
   "source": [
    "len(train_Dataset)"
   ]
  },
  {
   "cell_type": "code",
   "execution_count": 28,
   "metadata": {},
   "outputs": [
    {
     "name": "stdout",
     "output_type": "stream",
     "text": [
      "6.676209613869188\n",
      "47\n"
     ]
    },
    {
     "data": {
      "text/plain": [
       "(3, 200, 150, 150)"
      ]
     },
     "execution_count": 28,
     "metadata": {},
     "output_type": "execute_result"
    }
   ],
   "source": [
    "train_Dataset[0][0].shape"
   ]
  },
  {
   "cell_type": "code",
   "execution_count": 73,
   "metadata": {},
   "outputs": [
    {
     "data": {
      "application/vnd.jupyter.widget-view+json": {
       "model_id": "35efd0426e1f45a49e6f6cd4c191c8f5",
       "version_major": 2,
       "version_minor": 0
      },
      "text/plain": [
       "HBox(children=(FloatProgress(value=0.0, max=10000.0), HTML(value='')))"
      ]
     },
     "metadata": {},
     "output_type": "display_data"
    },
    {
     "name": "stdout",
     "output_type": "stream",
     "text": [
      "\n"
     ]
    }
   ],
   "source": [
    "for i in tqdm(range(len(train_Dataset))):\n",
    "    pass\n",
    "#     print(i)"
   ]
  }
 ],
 "metadata": {
  "kernelspec": {
   "display_name": "Python 3",
   "language": "python",
   "name": "python3"
  },
  "language_info": {
   "codemirror_mode": {
    "name": "ipython",
    "version": 3
   },
   "file_extension": ".py",
   "mimetype": "text/x-python",
   "name": "python",
   "nbconvert_exporter": "python",
   "pygments_lexer": "ipython3",
   "version": "3.8.2"
  }
 },
 "nbformat": 4,
 "nbformat_minor": 4
}
