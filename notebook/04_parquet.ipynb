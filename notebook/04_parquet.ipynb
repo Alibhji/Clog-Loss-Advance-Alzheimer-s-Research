{
 "cells": [
  {
   "cell_type": "code",
   "execution_count": 1,
   "metadata": {},
   "outputs": [],
   "source": [
    "import pandas as pd\n",
    "import pyarrow as pa\n",
    "import pyarrow.parquet as pq\n",
    "from datetime import datetime"
   ]
  },
  {
   "cell_type": "code",
   "execution_count": 2,
   "metadata": {},
   "outputs": [],
   "source": [
    "subscription_schema = pa.schema([\n",
    "    ('timestamp', pa.timestamp('ms')),\n",
    "    ('id', pa.int32()),\n",
    "    ('email', pa.string())\n",
    "])"
   ]
  },
  {
   "cell_type": "code",
   "execution_count": 8,
   "metadata": {},
   "outputs": [
    {
     "name": "stderr",
     "output_type": "stream",
     "text": [
      "C:\\Users\\alibh\\Anaconda3\\envs\\py37\\lib\\site-packages\\ipykernel_launcher.py:16: FutureWarning: Schema passed to names= option, please pass schema= explicitly. Will raise exception in future\n",
      "  app.launch_new_instance()\n"
     ]
    },
    {
     "data": {
      "text/plain": [
       "<pyarrow.lib.RecordBatch at 0x1baf2614908>"
      ]
     },
     "execution_count": 8,
     "metadata": {},
     "output_type": "execute_result"
    }
   ],
   "source": [
    "timestamps = pa.array([\n",
    "    datetime(2019, 9, 3, 9, 0, 0),\n",
    "    datetime(2019, 9, 3, 10, 0, 0),\n",
    "    datetime(2019, 9, 3, 11, 0, 0)\n",
    "], type = pa.timestamp('ms'))\n",
    "\n",
    "ids = pa.array([1, 2, 3], type = pa.int32())\n",
    "\n",
    "emails = pa.array(\n",
    "    ['first@example.com', 'second@example.com', 'third@example.com'],\n",
    "    type = pa.string()\n",
    ")\n",
    "\n",
    "batch = pa.RecordBatch.from_arrays(\n",
    "    [timestamps, ids, emails],\n",
    "    names = subscription_schema\n",
    ")\n",
    "\n",
    "batch"
   ]
  },
  {
   "cell_type": "code",
   "execution_count": 12,
   "metadata": {},
   "outputs": [],
   "source": [
    "table = pa.Table.from_batches([batch])\n",
    "pq.write_table(table, 'subscriptions.parquet')\n"
   ]
  },
  {
   "cell_type": "code",
   "execution_count": 15,
   "metadata": {},
   "outputs": [],
   "source": [
    "dataframe = pd.DataFrame([\n",
    "    [datetime(2019, 9, 3, 9, 0, 0), 1, 'first@example.com'],\n",
    "    [datetime(2019, 9, 3, 10, 0, 0), 1, 'second@example.com'],\n",
    "    [datetime(2019, 9, 3, 11, 0, 0), 1, 'third@example.com'],\n",
    "], columns = ['timestamp', 'id', 'email'])\n",
    "\n",
    "dataframe\n",
    "table_from_pandas = pa.Table.from_pandas(dataframe)\n",
    "pq.write_table(table_from_pandas, 'subscriptions_pandas.parquet')\n"
   ]
  },
  {
   "cell_type": "code",
   "execution_count": 17,
   "metadata": {},
   "outputs": [],
   "source": [
    "pq.write_to_dataset(\n",
    "    table,\n",
    "    root_path='subscriptions_partitioned.parquet',\n",
    "    partition_cols=['id']\n",
    ")"
   ]
  }
 ],
 "metadata": {
  "kernelspec": {
   "display_name": "py37",
   "language": "python",
   "name": "py37"
  },
  "language_info": {
   "codemirror_mode": {
    "name": "ipython",
    "version": 3
   },
   "file_extension": ".py",
   "mimetype": "text/x-python",
   "name": "python",
   "nbconvert_exporter": "python",
   "pygments_lexer": "ipython3",
   "version": "3.7.6"
  }
 },
 "nbformat": 4,
 "nbformat_minor": 4
}
