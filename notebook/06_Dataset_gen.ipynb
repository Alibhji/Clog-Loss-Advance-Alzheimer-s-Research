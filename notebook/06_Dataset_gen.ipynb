{
 "cells": [
  {
   "cell_type": "code",
   "execution_count": 90,
   "metadata": {},
   "outputs": [
    {
     "data": {
      "application/javascript": [
       "\n",
       "IPython.OutputArea.prototype._should_scroll = function(lines) { \n",
       "    return false; } \n"
      ],
      "text/plain": [
       "<IPython.core.display.Javascript object>"
      ]
     },
     "metadata": {},
     "output_type": "display_data"
    }
   ],
   "source": [
    "%%javascript \n",
    "\n",
    "IPython.OutputArea.prototype._should_scroll = function(lines) { \n",
    "    return false; } "
   ]
  },
  {
   "cell_type": "code",
   "execution_count": 98,
   "metadata": {},
   "outputs": [],
   "source": [
    "# The Code written by Ali Babolhaveji @ 6/7/2020\n",
    "\n",
    "from torch.utils.data import Dataset\n",
    "import pandas as pd\n",
    "import numpy as np\n",
    "import cv2\n",
    "import ipyvolume as ipv\n",
    "from boto3.session import Session\n",
    "import os\n",
    "import yaml\n",
    "import joblib\n",
    "import pickle\n",
    "\n",
    "from tqdm.notebook import tqdm\n",
    "\n",
    "# def extract_data(row):\n",
    "#     joblib.load()\n",
    "    \n",
    "\n",
    "\n",
    "class ClogLossDataset_from_compressed_data(Dataset):\n",
    "    def __init__(self, config, split='train', type='train' , draw_3d = False):\n",
    "        self.cfg = config\n",
    "        self.dataPath = config['dataset']['path']\n",
    "        self.draw_3d = draw_3d\n",
    "        \n",
    "        with open (os.path.join(self.dataPath , 'flowing_Tensors','flowing_Tensors.pandas'),'rb') as handle:\n",
    "            self.flowing_Tensors_pd = pickle.load(handle)\n",
    "        self.flowing_Tensors_pd['folder_name'] = np.tile('flowing_Tensors',len(self.flowing_Tensors_pd))\n",
    "        \n",
    "        with open (os.path.join(self.dataPath , 'stall_Tensors','stall_Tensors.pandas'),'rb') as handle:\n",
    "            self.stall_Tensors_pd = pickle.load(handle)\n",
    "        self.stall_Tensors_pd['folder_name'] = np.tile('stall_Tensors',len(self.stall_Tensors_pd))\n",
    "        \n",
    "        if not os.path.exists(os.path.join(self.dataPath, \"temp_balanced_dataset_pd.pandas\")):\n",
    "            self.df_dataset = pd.DataFrame()\n",
    "    #         self.flowing_Tensors_pd = self.flowing_Tensors_pd.iloc[:100]\n",
    "            counter = 0   \n",
    "            len_stall = len(self.stall_Tensors_pd)-1\n",
    "            # balance data\n",
    "            for  rowt in self.flowing_Tensors_pd.iterrows():\n",
    "                indx=rowt[0]\n",
    "                row =rowt[1]\n",
    "\n",
    "                self.df_dataset = self.df_dataset.append(row)\n",
    "                self.df_dataset = self.df_dataset.append(self.stall_Tensors_pd.iloc[counter])\n",
    "                counter = [0 ,counter+1][counter <len_stall] \n",
    "\n",
    "            self.df_dataset = self.df_dataset.reset_index(drop=True)\n",
    "\n",
    "            with open(os.path.join(self.dataPath, f\"temp_balanced_dataset_pd.pandas\"),'wb') as handel:\n",
    "                pickle.dump(self.df_dataset , handel ,protocol=pickle.HIGHEST_PROTOCOL)\n",
    "                \n",
    "        else:\n",
    "            with open (os.path.join(self.dataPath, f\"temp_balanced_dataset_pd.pandas\"),'rb') as handle:\n",
    "                self.df_dataset = pickle.load(handle)\n",
    "            \n",
    "    #         print(self.df_dataset )\n",
    "        \n",
    "    @staticmethod\n",
    "    def draw_tensor(tensor_img):\n",
    "\n",
    "        ipv.figure()\n",
    "        ipv.volshow(tensor_img[..., 0], level=[0.36, 0.55, 1], opacity=[0.11, 0.13, 0.13], level_width=0.05, data_min=0,\n",
    "                    data_max=1, lighting=True)\n",
    "        ipv.view(-30, 45)\n",
    "        ipv.show()\n",
    "\n",
    "            \n",
    "            \n",
    "    def __len__(self):\n",
    "        return len(self.df_dataset)\n",
    "    \n",
    "    def __getitem__(self, index):\n",
    "        row = self.df_dataset.iloc[index]\n",
    "        file= os.path.join(self.dataPath,row.folder_name  , row.filename.split('.')[0]+'.lzma')\n",
    "        data = joblib.load(file)\n",
    "        tensor_img = data[0]\n",
    "        meta = data [1]\n",
    "        \n",
    "        print(tensor_img.mean())\n",
    "#         tensor_img = tensor_img - tensor_img.mean()\n",
    "        tensor_img = tensor_img/255.0\n",
    "        \n",
    "        if tensor_img.shape[0]<199:\n",
    "            print(tensor_img.shape[0])\n",
    "            tensor_img = np.append(tensor_img , np.zeros((200 - len(tensor_img),150, 150, 3)),axis=0)\n",
    "        \n",
    "#         print(tensor_img.mean())\n",
    "        if self.draw_3d:\n",
    "            self.draw_tensor(tensor_img)\n",
    "\n",
    "        return tensor_img , meta\n",
    "\n",
    "    \n",
    "config = '../script/config.yml'\n",
    "with open (config , 'rb') as f:\n",
    "    config = yaml.load(f ,Loader=yaml.FullLoader)\n",
    "\n",
    "\n",
    "# train_Dataset = ClogLossDataset_from_compressed_data(config , draw_3d=True)\n",
    "train_Dataset = ClogLossDataset_from_compressed_data(config )"
   ]
  },
  {
   "cell_type": "code",
   "execution_count": 99,
   "metadata": {},
   "outputs": [
    {
     "name": "stdout",
     "output_type": "stream",
     "text": [
      "7.502023416965352\n",
      "62\n"
     ]
    },
    {
     "data": {
      "text/plain": [
       "{'filename': '103390.mp4',\n",
       " 'crowd_score': 0.814702,\n",
       " 'tier1': True,\n",
       " 'stalled': 1,\n",
       " 'vid_id': 3297,\n",
       " 'project_id': 'C',\n",
       " 'num_frames': 63}"
      ]
     },
     "execution_count": 99,
     "metadata": {},
     "output_type": "execute_result"
    }
   ],
   "source": [
    "train_Dataset[5][1]"
   ]
  },
  {
   "cell_type": "code",
   "execution_count": 73,
   "metadata": {},
   "outputs": [
    {
     "data": {
      "application/vnd.jupyter.widget-view+json": {
       "model_id": "35efd0426e1f45a49e6f6cd4c191c8f5",
       "version_major": 2,
       "version_minor": 0
      },
      "text/plain": [
       "HBox(children=(FloatProgress(value=0.0, max=10000.0), HTML(value='')))"
      ]
     },
     "metadata": {},
     "output_type": "display_data"
    },
    {
     "name": "stdout",
     "output_type": "stream",
     "text": [
      "\n"
     ]
    }
   ],
   "source": [
    "for i in tqdm(range(len(train_Dataset))):\n",
    "    pass\n",
    "#     print(i)"
   ]
  }
 ],
 "metadata": {
  "kernelspec": {
   "display_name": "Python 3",
   "language": "python",
   "name": "python3"
  },
  "language_info": {
   "codemirror_mode": {
    "name": "ipython",
    "version": 3
   },
   "file_extension": ".py",
   "mimetype": "text/x-python",
   "name": "python",
   "nbconvert_exporter": "python",
   "pygments_lexer": "ipython3",
   "version": "3.7.6"
  }
 },
 "nbformat": 4,
 "nbformat_minor": 4
}
